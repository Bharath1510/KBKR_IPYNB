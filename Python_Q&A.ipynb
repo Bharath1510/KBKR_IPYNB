{
 "cells": [
  {
   "cell_type": "markdown",
   "metadata": {
    "colab_type": "text",
    "id": "l0ZzOlyxB-kf"
   },
   "source": [
    "<h1>Python: without numpy or sklearn </h1>"
   ]
  },
  {
   "cell_type": "markdown",
   "metadata": {
    "colab_type": "text",
    "id": "C0xO8JV9B-ki"
   },
   "source": [
    "<h3> Q1: Given two matrices please print the product of those two matrices </h3>\n",
    "<pre>\n",
    "\n",
    "Ex 1: A   = [[1 3 4]\n",
    "             [2 5 7]\n",
    "             [5 9 6]]\n",
    "      B   = [[1 0 0]\n",
    "             [0 1 0]\n",
    "             [0 0 1]]\n",
    "      A*B = [[1 3 4]\n",
    "             [2 5 7]\n",
    "             [5 9 6]]\n",
    "\n",
    "     \n",
    "Ex 2: A   = [[1 2]\n",
    "             [3 4]]\n",
    "      B   = [[1 2 3 4 5]\n",
    "             [5 6 7 8 9]]\n",
    "      A*B = [[11 14 17 20 23]\n",
    "             [23 30 36 42 51]]\n",
    "             \n",
    "Ex 3: A   = [[1 2]\n",
    "             [3 4]]\n",
    "      B   = [[1 4]\n",
    "             [5 6]\n",
    "             [7 8]\n",
    "             [9 6]]\n",
    "      A*B =Not possible\n",
    "</pre>"
   ]
  },
  {
   "cell_type": "code",
   "execution_count": 19,
   "metadata": {
    "colab": {},
    "colab_type": "code",
    "id": "rnssAfpgB-kj"
   },
   "outputs": [
    {
     "data": {
      "text/plain": [
       "[[11, 14, 17, 20, 23], [23, 30, 37, 44, 51]]"
      ]
     },
     "execution_count": 19,
     "metadata": {},
     "output_type": "execute_result"
    }
   ],
   "source": [
    "def matrix_mul(A, B):\n",
    "    #condition to check for posibility of matrix multiplication\n",
    "    if len(A[0])==len(B):\n",
    "        mul_A_B = [] #to store matrix(A)*matrix(B)\n",
    "        for i in range(len(A)):\n",
    "            mul = []#to temporarily store individual rows \n",
    "            for j in range(len(B[0])):\n",
    "                m = 0 #to temporarily store inidividual elements of multiplication\n",
    "                for k in range(len(A[0])):\n",
    "                    m+=(A[i][k]*B[k][j]) #matrix multiplication\n",
    "                #appending elements to list\n",
    "                mul.append(m)\n",
    "            mul_A_B.append(mul)\n",
    "        return mul_A_B\n",
    "    else:\n",
    "        print(\"Matrix multiplication not possible\")\n",
    "    \n",
    "\n",
    "A =[[1,2],[3,4]]\n",
    "B =[[1,2,3,4,5],[5,6,7,8,9]]\n",
    "matrix_mul(A, B)"
   ]
  },
  {
   "cell_type": "markdown",
   "metadata": {
    "colab_type": "text",
    "id": "at4VwLggB-kn"
   },
   "source": [
    "<h3> Q2: Select a number randomly with probability proportional to its magnitude from the given array of n elements</h3>\n",
    "\n",
    "consider an experiment, selecting an element from the list A randomly with probability proportional to its magnitude.\n",
    "assume we are doing the same experiment for 100 times with replacement, in each experiment you will print a number that is selected randomly from A.\n",
    "\n",
    "<pre>\n",
    "Ex 1: A = [0 5 27 6 13 28 100 45 10 79]\n",
    "let f(x) denote the number of times x getting selected in 100 experiments.\n",
    "f(100) > f(79) > f(45) > f(28) > f(27) > f(13) > f(10) > f(6) > f(5) > f(0)\n",
    "</pre>"
   ]
  },
  {
   "cell_type": "code",
   "execution_count": 60,
   "metadata": {
    "colab": {},
    "colab_type": "code",
    "id": "B6S2dpBhB-kn"
   },
   "outputs": [
    {
     "name": "stdout",
     "output_type": "stream",
     "text": [
      "79\n",
      "28\n",
      "100\n",
      "79\n",
      "100\n",
      "79\n",
      "100\n",
      "100\n",
      "27\n",
      "79\n",
      "5\n",
      "45\n",
      "100\n",
      "45\n",
      "13\n",
      "10\n",
      "6\n",
      "28\n",
      "100\n",
      "28\n",
      "100\n",
      "100\n",
      "100\n",
      "100\n",
      "79\n",
      "79\n",
      "27\n",
      "79\n",
      "45\n",
      "45\n",
      "79\n",
      "13\n",
      "10\n",
      "100\n",
      "100\n",
      "100\n",
      "100\n",
      "28\n",
      "28\n",
      "79\n",
      "100\n",
      "100\n",
      "28\n",
      "28\n",
      "45\n",
      "28\n",
      "45\n",
      "45\n",
      "28\n",
      "79\n",
      "100\n",
      "28\n",
      "79\n",
      "45\n",
      "28\n",
      "27\n",
      "27\n",
      "28\n",
      "13\n",
      "79\n",
      "28\n",
      "45\n",
      "100\n",
      "100\n",
      "100\n",
      "45\n",
      "10\n",
      "100\n",
      "100\n",
      "79\n",
      "45\n",
      "100\n",
      "79\n",
      "28\n",
      "45\n",
      "45\n",
      "79\n",
      "45\n",
      "79\n",
      "100\n",
      "100\n",
      "100\n",
      "100\n",
      "13\n",
      "79\n",
      "100\n",
      "100\n",
      "100\n",
      "100\n",
      "45\n",
      "100\n",
      "100\n",
      "100\n",
      "100\n",
      "100\n",
      "79\n",
      "13\n",
      "100\n",
      "79\n"
     ]
    },
    {
     "data": {
      "text/plain": [
       "([0, 5, 27, 6, 13, 28, 100, 45, 10, 79],\n",
       " {79: 19, 28: 14, 100: 37, 27: 4, 5: 1, 45: 15, 13: 5, 10: 3, 6: 1})"
      ]
     },
     "execution_count": 60,
     "metadata": {},
     "output_type": "execute_result"
    }
   ],
   "source": [
    "from random import uniform\n",
    "def pick_a_number_from_list(A):\n",
    "    Sum = 0\n",
    "    cumulative_lst = []\n",
    "    #finding cumulative sum of the given list\n",
    "    for num in A:\n",
    "        Sum +=num\n",
    "        cumulative_lst.append(Sum)\n",
    "    p = int(uniform(0,Sum))\n",
    "    #using uniform function we pick any number between 0 and Sum\n",
    "    for i in range(len(A)):\n",
    "        #here based on the magnitude or the range based on cumulative sum a number is picked and returned\n",
    "        if (p>=cumulative_lst[i] and p<cumulative_lst[i+1]):\n",
    "            return A[i+1]\n",
    "    return 0\n",
    "\n",
    "\n",
    "def sampling_based_on_magnitued(A):\n",
    "    count = {}\n",
    "    #for selecting an element and repeating it 100 times\n",
    "    for i in range(1,100):\n",
    "        number = pick_a_number_from_list(A)\n",
    "        print(number)\n",
    "        #printing the number which is being picked and finding the count to know no. of times it is picked\n",
    "        if number in count:\n",
    "            count[number]+=1\n",
    "        else:\n",
    "            count[number]=1\n",
    "    return A,count\n",
    "    \n",
    "A = [0,5,27,6,13,28,100,45,10,79]\n",
    "#pick_a_number_from_list(A)\n",
    "sampling_based_on_magnitued(A)"
   ]
  },
  {
   "cell_type": "markdown",
   "metadata": {
    "colab_type": "text",
    "id": "D1xQy2WWB-kq"
   },
   "source": [
    "<h3> Q3: Replace the digits in the string with #</h3>\n",
    "\n",
    "consider a string that will have digits in that, we need to remove all the not digits and replace the digits with #\n",
    "<pre>\n",
    "Ex 1: A = 234                Output: ###\n",
    "Ex 2: A = a2b3c4             Output: ###\n",
    "Ex 3: A = abc                Output:   (empty string)\n",
    "Ex 5: A = #2a$#b%c%561#      Output: ####\n",
    "</pre>"
   ]
  },
  {
   "cell_type": "code",
   "execution_count": 53,
   "metadata": {
    "colab": {},
    "colab_type": "code",
    "id": "fxczi2jzB-kr"
   },
   "outputs": [
    {
     "data": {
      "text/plain": [
       "'####'"
      ]
     },
     "execution_count": 53,
     "metadata": {},
     "output_type": "execute_result"
    }
   ],
   "source": [
    "import re\n",
    "def replace_digits(String):\n",
    "    String = re.sub('#',\"\",String)\n",
    "    #since '#' is used to comment first we will remove it from the given string if it is present\n",
    "    for i in String:\n",
    "        #using for loop to iterate and replace digits with \"#\" and remove non digits\n",
    "        if i in \"0123456789\":\n",
    "            String = String.replace(i,\"#\")\n",
    "        else:\n",
    "            String = String.replace(i,\"\")\n",
    "        \n",
    "    return String # modified string which is after replacing the # with digits\n",
    "\n",
    "String = \"#2a$#b%c%561#\"\n",
    "replace_digits(String)"
   ]
  },
  {
   "cell_type": "markdown",
   "metadata": {
    "colab_type": "text",
    "id": "j7h0Ywg7B-kw"
   },
   "source": [
    "<h3> Q4: Students marks dashboard</h3>\n",
    "\n",
    "consider the marks list of class students given two lists <br>\n",
    "Students = ['student1','student2','student3','student4','student5','student6','student7','student8','student9','student10'] <br>\n",
    "Marks = [45, 78, 12, 14, 48, 43, 45, 98, 35, 80] <br>\n",
    "from the above two lists the Student[0] got Marks[0],  Student[1] got Marks[1] and so on <br><br>\n",
    "your task is to print the name of students\n",
    "<strong>a. Who got top 5 ranks, in the descending order of marks</strong> <br>\n",
    "<strong>b. Who got least 5 ranks, in the increasing order of marks</strong><br>\n",
    "<strong>d. Who got marks between  &gt;25th percentile &lt;75th percentile, in the increasing order of marks</strong>\n",
    "\n",
    "<pre>\n",
    "Ex 1: \n",
    "Students=['student1','student2','student3','student4','student5','student6','student7','student8','student9','student10'] \n",
    "Marks = [45, 78, 12, 14, 48, 43, 47, 98, 35, 80]\n",
    "a. \n",
    "student8  98\n",
    "student10 80\n",
    "student2  78\n",
    "student5  48\n",
    "student7  47\n",
    "b.\n",
    "student3 12\n",
    "student4 14\n",
    "student9 35\n",
    "student6 43\n",
    "student1 45\n",
    "c.\n",
    "student9 35\n",
    "student6 43\n",
    "student1 45\n",
    "student7 47\n",
    "student5 48\n",
    "</pre>"
   ]
  },
  {
   "cell_type": "code",
   "execution_count": 81,
   "metadata": {},
   "outputs": [
    {
     "name": "stdout",
     "output_type": "stream",
     "text": [
      "{45: 'student1', 78: 'student2', 12: 'student3', 14: 'student4', 48: 'student5', 43: 'student6', 47: 'student7', 98: 'student8', 35: 'student9', 80: 'student10'}\n",
      "a. Who got top 5 ranks, in the descending order of marks\n",
      "student8  98\n",
      "student10  80\n",
      "student2  78\n",
      "student5  48\n",
      "student7  47\n",
      "b. Who got least 5 ranks, in the increasing order of marks\n",
      "student3  12\n",
      "student4  14\n",
      "student9  35\n",
      "student6  43\n",
      "student1  45\n",
      "d. Who got marks between >25th percentile <75th percentile, in the increasing order of marks\n",
      "student9  35\n",
      "student6  43\n",
      "student1  45\n",
      "student7  47\n",
      "student5  48\n"
     ]
    }
   ],
   "source": [
    "def display_dash_board(students, marks):\n",
    "    l = len(marks)\n",
    "    #creating a dictionary of marks & students\n",
    "    dict = {marks[i]:students[i] for i in range(l)}\n",
    "    print(dict)\n",
    "    #create a sorted list of marks in descending order \n",
    "    sort_dict=sorted(dict.keys(),reverse= True)\n",
    "    print(\"a. Who got top 5 ranks, in the descending order of marks\")\n",
    "    for i in range(5):\n",
    "        #printing top five students with their marks\n",
    "        print(dict[sort_dict[i]]+\" \",sort_dict[i])\n",
    "        \n",
    "    print(\"b. Who got least 5 ranks, in the increasing order of marks\") \n",
    "    #create a sorted list of marks in ascending order\n",
    "    sort_dict_Asc=sorted(dict.keys())\n",
    "    for i in range(5):\n",
    "        #printing least five students with their marks\n",
    "        print(dict[sort_dict_Asc[i]]+\" \",sort_dict_Asc[i])\n",
    "    \n",
    "    print(\"d. Who got marks between >25th percentile <75th percentile, in the increasing order of marks\")\n",
    "    for i in range(int(0.25*l),int(.75*l)):\n",
    "        #using ascending ordered sorted list to find stidents between 25 and 75 percentile\n",
    "        print(dict[sort_dict_Asc[i]]+\" \",sort_dict_Asc[i])\n",
    "    \n",
    "\n",
    "students = ['student1','student2','student3','student4','student5','student6','student7','student8','student9','student10']\n",
    "Marks = [45, 78, 12, 14, 48, 43, 47, 98, 35, 80]\n",
    "display_dash_board(students,Marks)"
   ]
  },
  {
   "cell_type": "markdown",
   "metadata": {
    "colab_type": "text",
    "id": "qha0OhQHB-k1"
   },
   "source": [
    "<h3> Q5: Find the closest points</h3>\n",
    "\n",
    "consider you have given n data points in the form of list of tuples like S=[(x1,y1),(x2,y2),(x3,y3),(x4,y4),(x5,y5),..,(xn,yn)] and a point P=(p,q) <br> your task is to find 5 closest points(based on cosine distance) in S from P\n",
    "<br>cosine distance between two points (x,y) and (p,q) is defind as $cos^{-1}(\\frac{(x\\cdot p+y\\cdot q)}{\\sqrt(x^2+y^2)\\cdot\\sqrt(p^2+q^2)})$\n",
    "<pre>\n",
    "Ex:\n",
    "\n",
    "S= [(1,2),(3,4),(-1,1),(6,-7),(0, 6),(-5,-8),(-1,-1)(6,0),(1,-1)]\n",
    "P= (3,-4)\n",
    "<img src='https://i.imgur.com/vIFPOcG.jpg', width=300>\n",
    "Output:\n",
    "(6,-7)\n",
    "(1,-1)\n",
    "(6,0)\n",
    "(-5,-8)\n",
    "(-1,-1)\n",
    "</pre>"
   ]
  },
  {
   "cell_type": "code",
   "execution_count": 94,
   "metadata": {
    "colab": {},
    "colab_type": "code",
    "id": "wA5I1g-2B-k2"
   },
   "outputs": [
    {
     "name": "stdout",
     "output_type": "stream",
     "text": [
      "Five Closest points to point P:(3, -4) are:\n",
      "(6, -7)\n",
      "(1, -1)\n",
      "(6, 0)\n",
      "(-5, -8)\n",
      "(-1, -1)\n"
     ]
    }
   ],
   "source": [
    "import math\n",
    "def closest_points_to_p(S, P):\n",
    "    lst_dist = {}#initialize empty dictionary to store distance and points\n",
    "    for point in S:\n",
    "        #finding distance from the point to every point in the list S and adding to dictionary\n",
    "        num = (P[0]*point[0])+(P[1]*point[1])\n",
    "        den = math.sqrt((P[0]**2+P[1]**2)*(point[0]**2+point[1]**2))\n",
    "        dist = math.acos(num/den)\n",
    "        lst_dist[dist]=point\n",
    "    #finding the points with least distance using sorted function\n",
    "    fin = sorted(lst_dist.keys())[:5]\n",
    "    fin_lst = [lst_dist[i] for i in fin]   \n",
    "    return fin_lst# its list of tuples\n",
    "\n",
    "S= [(1,2),(3,4),(-1,1),(6,-7),(0, 6),(-5,-8),(-1,-1),(6,0),(1,-1)]\n",
    "P= (3,-4)\n",
    "lst_points = closest_points_to_p(S, P)\n",
    "print(\"Five Closest points to point P:{} are:\".format(P))\n",
    "for i in lst_points:\n",
    "    print(i)"
   ]
  },
  {
   "cell_type": "markdown",
   "metadata": {
    "colab_type": "text",
    "id": "-g11jeAiB-k5"
   },
   "source": [
    "<h3> Q6: Find Which line separates oranges and apples</h3>\n",
    "consider you have given two set of data points in the form of list of tuples like \n",
    "<pre>\n",
    "Red =[(R11,R12),(R21,R22),(R31,R32),(R41,R42),(R51,R52),..,(Rn1,Rn2)]\n",
    "Blue=[(B11,B12),(B21,B22),(B31,B32),(B41,B42),(B51,B52),..,(Bm1,Bm2)]\n",
    "</pre>\n",
    "and set of line equations(in the string formate, i.e list of strings)\n",
    "<pre>\n",
    "Lines = [a1x+b1y+c1,a2x+b2y+c2,a3x+b3y+c3,a4x+b4y+c4,..,K lines]\n",
    "Note: you need to string parsing here and get the coefficients of x,y and intercept\n",
    "</pre>\n",
    "your task is to for each line that is given print \"YES\"/\"NO\", you will print yes, if all the red points are one side of the line and blue points are other side of the line, otherwise no\n",
    "<pre>\n",
    "Ex:\n",
    "Red= [(1,1),(2,1),(4,2),(2,4), (-1,4)]\n",
    "Blue= [(-2,-1),(-1,-2),(-3,-2),(-3,-1),(1,-3)]\n",
    "Lines=[\"1x+1y+0\",\"1x-1y+0\",\"1x+0y-3\",\"0x+1y-0.5\"]\n",
    "<img src='https://i.imgur.com/DoQf7mE.jpg' width=400>\n",
    "Output:\n",
    "YES\n",
    "NO\n",
    "NO\n",
    "YES\n",
    "</pre>"
   ]
  },
  {
   "cell_type": "code",
   "execution_count": 88,
   "metadata": {
    "colab": {},
    "colab_type": "code",
    "id": "eRxExaTRB-k6"
   },
   "outputs": [
    {
     "name": "stdout",
     "output_type": "stream",
     "text": [
      "YES\n",
      "N0\n",
      "NO\n",
      "YES\n"
     ]
    }
   ],
   "source": [
    "import math\n",
    "def i_am_the_one(red,blue,line):\n",
    "    \n",
    "    # using eval fuction to evaluate the line fuction for any one point\n",
    "    red_sign = eval(line.replace('x',\"*%s\"%red[0][0]).replace('y',\"*%s\"%red[0][1]))\n",
    "    blue_sign = eval(line.replace('x',\"*%s\"%blue[0][0]).replace('y',\"*%s\"%blue[0][1]))\n",
    "    \n",
    "    # checking condition that if either both are positive or negative i.e. on the same side of the line\n",
    "    if (red_sign>0 and blue_sign>0)or(red_sign<0 and blue_sign<0):\n",
    "        return \"NO\"\n",
    "    \n",
    "    # if false we then check all the points of same colour are on the same side or different\n",
    "    else:\n",
    "        \n",
    "        # checking red points\n",
    "        for i in red:\n",
    "            r_check = eval(line.replace('x',\"*%s\"%i[0]).replace('y',\"*%s\"%i[1]))\n",
    "            if (red_sign>0 and r_check>0)or(red_sign<0 and r_check<0):\n",
    "                continue\n",
    "            else:\n",
    "                return \"N0\"\n",
    "            \n",
    "        # checking blue points\n",
    "        for j in blue:\n",
    "            b_check = eval(line.replace('x',\"*%s\"%j[0]).replace('y',\"*%s\"%j[1]))\n",
    "            if (blue_sign>0 and b_check>0)or(blue_sign<0 and b_check<0):\n",
    "                continue\n",
    "            else:\n",
    "                return \"N0\"\n",
    "    # if all points of red lies one side and blue on other return YES\n",
    "    return \"YES\"\n",
    "\n",
    "Red= [(1,1),(2,1),(4,2),(2,4), (-1,4)]\n",
    "Blue= [(-2,-1),(-1,-2),(-3,-2),(-3,-1),(1,-3)]\n",
    "Lines=[\"1x+1y+0\",\"1x-1y+0\",\"1x+0y-3\",\"0x+1y-0.5\"]\n",
    "\n",
    "for i in Lines:\n",
    "    yes_or_no = i_am_the_one(Red, Blue, i)\n",
    "    print(yes_or_no) # the returned value"
   ]
  },
  {
   "cell_type": "markdown",
   "metadata": {
    "colab_type": "text",
    "id": "9OBpURbNB-k9"
   },
   "source": [
    "<h3> Q7: Filling the missing values in the specified formate</h3>\n",
    "You will be given a string with digits and '\\_'(missing value) symbols you have to replace the '\\_' symbols as explained \n",
    "<pre>\n",
    "Ex 1: _, _, _, 24 ==> 24/4, 24/4, 24/4, 24/4 i.e we. have distributed the 24 equally to all 4 places <br>\n",
    "Ex 2: 40, _, _, _, 60 ==> (60+40)/5,(60+40)/5,(60+40)/5,(60+40)/5,(60+40)/5 ==> 20, 20, 20, 20, 20 i.e. the sum of (60+40) is distributed qually to all 5 places<br>\n",
    "Ex 3: 80, _, _, _, _  ==> 80/5,80/5,80/5,80/5,80/5 ==> 16, 16, 16, 16, 16 i.e. the 80 is distributed qually to all 5 missing values that are right to it<br>\n",
    "Ex 4: _, _, 30, _, _, _, 50, _, _  \n",
    "==> we will fill the missing values from left to right \n",
    "    a. first we will distribute the 30 to left two missing values (10, 10, 10, _, _, _, 50, _, _)\n",
    "    b. now distribute the sum (10+50) missing values in between (10, 10, 12, 12, 12, 12, 12, _, _) \n",
    "    c. now we will distribute 12 to right side missing values (10, 10, 12, 12, 12, 12, 4, 4, 4)\n",
    "</pre>\n",
    "for a given string with comma seprate values, which will have both missing values numbers like ex: \"_, _, x, _, _, _\"\n",
    "you need fill the missing values\n",
    "\n",
    "Q: your program reads a string like ex: \"_, _, x, _, _, _\" and returns the filled sequence\n",
    "\n",
    "Ex: \n",
    "<pre>\n",
    "Input1: \"_,_,_,24\"\n",
    "Output1: 6,6,6,6\n",
    "\n",
    "Input2: \"40,_,_,_,60\"\n",
    "Output2: 20,20,20,20,20\n",
    "\n",
    "Input3: \"80,_,_,_,_\"\n",
    "Output3: 16,16,16,16,16\n",
    "\n",
    "Input4: \"_,_,30,_,_,_,50,_,_\"\n",
    "Output4: 10,10,12,12,12,12,4,4,4\n",
    "</pre>\n",
    "\n"
   ]
  },
  {
   "cell_type": "code",
   "execution_count": 16,
   "metadata": {
    "colab": {},
    "colab_type": "code",
    "id": "nZmpzHs_B-k-"
   },
   "outputs": [
    {
     "data": {
      "text/plain": [
       "[10.0, 10.0, 12.0, 12.0, 12.0, 12.0, 4.0, 4.0, 4.0]"
      ]
     },
     "execution_count": 16,
     "metadata": {},
     "output_type": "execute_result"
    }
   ],
   "source": [
    "# takes an array x and two indices a,b. \n",
    "# Replaces all the _'s with (x[a]+x[b])/(b-a+1)\n",
    "def fun(x, a, b):\n",
    "    if a == -1:\n",
    "        v = float(x[b])/(b+1)\n",
    "        for i in range(a+1,b+1):\n",
    "            x[i] = v\n",
    "    elif b == -1:\n",
    "        v = float(x[a])/(len(x)-a)\n",
    "        for i in range(a, len(x)):\n",
    "            x[i] = v\n",
    "    else:\n",
    "        v = (float(x[a])+float(x[b]))/(b-a+1)\n",
    "        for i in range(a,b+1):\n",
    "            x[i] = v\n",
    "    return x\n",
    "\n",
    "def replace(text):\n",
    "    # Create array from the string\n",
    "    x = text.replace(\" \",\"\").split(\",\")\n",
    "    # Get all the pairs of indices having number\n",
    "    y = [i for i, v in enumerate(x) if v != '_']\n",
    "    # Starting with _ ?\n",
    "    if y[0] != 0:\n",
    "        y = [-1] + y\n",
    "    # Ending with _ ?\n",
    "    if y[-1] != len(x)-1:\n",
    "        y = y + [-1]    \n",
    "    # run over all the pairs\n",
    "    for (a, b) in zip(y[:-1], y[1:]): \n",
    "        fun(x,a,b)          \n",
    "    return x\n",
    "\n",
    "\n",
    " \n",
    "S=  \"_,_,30,_,_,_,50,_,_\"\n",
    "replace(S)"
   ]
  },
  {
   "cell_type": "markdown",
   "metadata": {
    "colab_type": "text",
    "id": "RBz4pzlfB-lB"
   },
   "source": [
    "<h3> Q8: Filling the missing values in the specified formate</h3>\n",
    "You will be given a list of lists, each sublist will be of length 2 i.e. [[x,y],[p,q],[l,m]..[r,s]]\n",
    "consider its like a martrix of n rows and two columns\n",
    "1. the first column F will contain only 5 uniques values (F1, F2, F3, F4, F5)\n",
    "2. the second column S will contain only 3 uniques values (S1, S2, S3)\n",
    "<pre>\n",
    "your task is to find\n",
    "a. Probability of P(F=F1|S==S1), P(F=F1|S==S2), P(F=F1|S==S3)\n",
    "b. Probability of P(F=F2|S==S1), P(F=F2|S==S2), P(F=F2|S==S3)\n",
    "c. Probability of P(F=F3|S==S1), P(F=F3|S==S2), P(F=F3|S==S3)\n",
    "d. Probability of P(F=F4|S==S1), P(F=F4|S==S2), P(F=F4|S==S3)\n",
    "e. Probability of P(F=F5|S==S1), P(F=F5|S==S2), P(F=F5|S==S3)\n",
    "</pre>\n",
    "Ex:\n",
    "\n",
    "<pre>\n",
    "[[F1,S1],[F2,S2],[F3,S3],[F1,S2],[F2,S3],[F3,S2],[F2,S1],[F4,S1],[F4,S3],[F5,S1]]\n",
    "\n",
    "a. P(F=F1|S==S1)=1/4, P(F=F1|S==S2)=1/3, P(F=F1|S==S3)=0/3\n",
    "b. P(F=F2|S==S1)=1/4, P(F=F2|S==S2)=1/3, P(F=F2|S==S3)=1/3\n",
    "c. P(F=F3|S==S1)=0/4, P(F=F3|S==S2)=1/3, P(F=F3|S==S3)=1/3\n",
    "d. P(F=F4|S==S1)=1/4, P(F=F4|S==S2)=0/3, P(F=F4|S==S3)=1/3\n",
    "e. P(F=F5|S==S1)=1/4, P(F=F5|S==S2)=0/3, P(F=F5|S==S3)=0/3\n",
    "</pre>\n",
    "\n",
    "\n"
   ]
  },
  {
   "cell_type": "code",
   "execution_count": 8,
   "metadata": {
    "colab": {},
    "colab_type": "code",
    "id": "e-1giz1MB-lC"
   },
   "outputs": [
    {
     "name": "stdout",
     "output_type": "stream",
     "text": [
      "P(F=F1|S==S1)=1/4, P(F=F1|S==S1)=1/3, P(F=F1|S==S1)=0/3\n",
      "P(F=F2|S==S1)=1/4, P(F=F2|S==S1)=1/3, P(F=F2|S==S1)=1/3\n",
      "P(F=F3|S==S1)=0/4, P(F=F3|S==S1)=1/3, P(F=F3|S==S1)=1/3\n",
      "P(F=F4|S==S1)=1/4, P(F=F4|S==S1)=0/3, P(F=F4|S==S1)=1/3\n",
      "P(F=F5|S==S1)=1/4, P(F=F5|S==S1)=0/3, P(F=F5|S==S1)=0/3\n"
     ]
    }
   ],
   "source": [
    "def compute_conditional_probabilites(A):\n",
    "    f_dict = {}#initailizing dictionary for F unique values\n",
    "    s_dict = {'S1':0,'S2':0,'S3':0}#initailizing dictionary for S unique values\n",
    "    \n",
    "    #looping over A to store F values as key and values initialized to 0\n",
    "    for i in A:\n",
    "        a_key = i[0]+i[1]\n",
    "        f_dict[a_key] = 0\n",
    "    \n",
    "    # looping over A to find intersection between f_dict & A\n",
    "    # and s_dict & A\n",
    "    # and incrementing values in dictionary\n",
    "    for j in A:\n",
    "        a_key = j[0]+j[1]\n",
    "        f_dict[a_key]+=1\n",
    "        \n",
    "        s_key = j[1]\n",
    "        s_dict[s_key]+=1\n",
    "    \n",
    "    # finally using above values in dictionary print conditonal probabilities as shown in above cell\n",
    "    for n in range(1,6):\n",
    "        a = \"F\"+str(n)+\"S1\"\n",
    "        b = \"F\"+str(n)+\"S2\"\n",
    "        c = \"F\"+str(n)+\"S3\"\n",
    "        print(\"P(F=F{0}|S==S1)={1}/{2}, P(F=F{0}|S==S1)={3}/{4}, P(F=F{0}|S==S1)={5}/{6}\"\n",
    "              .format(n,f_dict.get(a,0),s_dict.get('S1'),\n",
    "                     f_dict.get(b,0),s_dict.get('S2'),\n",
    "                     f_dict.get(c,0),s_dict.get('S3')))\n",
    "        \n",
    "    \n",
    "\n",
    "            \n",
    "        \n",
    "    # print the output as per the instructions\n",
    "\n",
    "A = [['F1','S1'],['F2','S2'],['F3','S3'],['F1','S2'],['F2','S3'],['F3','S2'],['F2','S1'],['F4','S1'],['F4','S3'],['F5','S1']]\n",
    "\n",
    "compute_conditional_probabilites(A)"
   ]
  },
  {
   "cell_type": "markdown",
   "metadata": {
    "colab_type": "text",
    "id": "n4HS87QmB-lF"
   },
   "source": [
    "<h3> Q9: Given two sentances S1, S2</h3>\n",
    "You will be given two sentances S1, S2 your task is to find \n",
    "<pre>\n",
    "a. Number of common words between S1, S2\n",
    "b. Words in S1 but not in S2\n",
    "c. Words in S2 but not in S1\n",
    "</pre>\n",
    "\n",
    "Ex: \n",
    "<pre>\n",
    "S1= \"the first column F will contain only 5 uniques values\"\n",
    "S2= \"the second column S will contain only 3 uniques values\"\n",
    "Output:\n",
    "a. 7\n",
    "b. ['first','F','5']\n",
    "c. ['second','S','3']\n",
    "</pre>"
   ]
  },
  {
   "cell_type": "code",
   "execution_count": 92,
   "metadata": {
    "colab": {},
    "colab_type": "code",
    "id": "Ez7hlHK0B-lG"
   },
   "outputs": [
    {
     "name": "stdout",
     "output_type": "stream",
     "text": [
      "a. Number of common words between S1, S2:  7\n",
      "b. Words in S1 but not in S2:  ['5', 'first', 'F']\n",
      "c. Words in S2 but not in S1:  ['3', 'S', 'second']\n"
     ]
    }
   ],
   "source": [
    "def string_features(S1, S2):\n",
    "    # using split function to create a list of space separated words of both S1 & S2\n",
    "    S1 = set(S1.split(\" \"))\n",
    "    S2 = set(S2.split(\" \"))\n",
    "    #using intersection method of sets to find commom elemnets between S1 & S2\n",
    "    a = len(S1.intersection(S2))\n",
    "    #using difference method of sets to find elemnets present in S1 & not in S2\n",
    "    b = S1.difference(S2)\n",
    "    #using difference method of sets to find elemnets present in S2 & not in S1\n",
    "    c = S2.difference(S1)\n",
    "    return a,b,c\n",
    "\n",
    "S1= \"the first column F will contain only 5 uniques values\"\n",
    "S2= \"the second column S will contain only 3 uniques values\"\n",
    "a,b,c = string_features(S1, S2)\n",
    "print(\"a. Number of common words between S1, S2: \",a)\n",
    "print(\"b. Words in S1 but not in S2: \",list(b))\n",
    "print(\"c. Words in S2 but not in S1: \",list(c))\n",
    "\n"
   ]
  },
  {
   "cell_type": "markdown",
   "metadata": {
    "colab_type": "text",
    "id": "XefXVEjCB-lI"
   },
   "source": [
    "<h3> Q10: Given two sentances S1, S2</h3>\n",
    "You will be given a list of lists, each sublist will be of length 2 i.e. [[x,y],[p,q],[l,m]..[r,s]]\n",
    "consider its like a martrix of n rows and two columns\n",
    "\n",
    "a. the first column Y will contain interger values <br>\n",
    "b. the second column $Y_{score}$ will be having float values <br>\n",
    "Your task is to find the value of $f(Y,Y_{score}) = -1*\\frac{1}{n}\\Sigma_{for each Y,Y_{score} pair}(Ylog10(Y_{score})+(1-Y)log10(1-Y_{score}))$ here n is the number of rows in the matrix\n",
    "<pre>\n",
    "Ex:\n",
    "[[1, 0.4], [0, 0.5], [0, 0.9], [0, 0.3], [0, 0.6], [1, 0.1], [1, 0.9], [1, 0.8]]\n",
    "output:\n",
    "0.4243099\n",
    "</pre>\n",
    "$\\frac{-1}{8}\\cdot((1\\cdot log_{10}(0.4)+0\\cdot log_{10}(0.6))+(0\\cdot log_{10}(0.5)+1\\cdot log_{10}(0.5)) + ... + (1\\cdot log_{10}(0.8)+0\\cdot log_{10}(0.2)) )$"
   ]
  },
  {
   "cell_type": "code",
   "execution_count": 106,
   "metadata": {
    "colab": {},
    "colab_type": "code",
    "id": "N9zkagyNB-lJ"
   },
   "outputs": [
    {
     "name": "stdout",
     "output_type": "stream",
     "text": [
      "loss:0.4243099\n"
     ]
    }
   ],
   "source": [
    "from math import log10\n",
    "\n",
    "def compute_log_loss(A):\n",
    "    n = len(A)\n",
    "    log_sum = 0\n",
    "    #for loop to implement summation as in above formula\n",
    "    for p in A:\n",
    "        log_sum += (p[0]*log10(p[1]))+((1-p[0])*log10(1-p[1]))\n",
    "    loss = -1*(1/n)*log_sum\n",
    "    \n",
    "    return loss #return the function output\n",
    "\n",
    "A = [[1, 0.4], [0, 0.5], [0, 0.9], [0, 0.3], [0, 0.6], [1, 0.1], [1, 0.9], [1, 0.8]]\n",
    "loss = compute_log_loss(A)\n",
    "print(\"loss:{:.7f}\".format(loss))"
   ]
  }
 ],
 "metadata": {
  "colab": {
   "collapsed_sections": [],
   "name": "1.Python Assignment.ipynb",
   "provenance": []
  },
  "kernelspec": {
   "display_name": "Python 3",
   "language": "python",
   "name": "python3"
  },
  "language_info": {
   "codemirror_mode": {
    "name": "ipython",
    "version": 3
   },
   "file_extension": ".py",
   "mimetype": "text/x-python",
   "name": "python",
   "nbconvert_exporter": "python",
   "pygments_lexer": "ipython3",
   "version": "3.6.5"
  }
 },
 "nbformat": 4,
 "nbformat_minor": 1
}
